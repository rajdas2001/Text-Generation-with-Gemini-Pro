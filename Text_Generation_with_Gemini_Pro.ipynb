{
  "nbformat": 4,
  "nbformat_minor": 0,
  "metadata": {
    "colab": {
      "provenance": [],
      "authorship_tag": "ABX9TyNiQQAWbM+I8Wiu58BU3VIf",
      "include_colab_link": true
    },
    "kernelspec": {
      "name": "python3",
      "display_name": "Python 3"
    },
    "language_info": {
      "name": "python"
    }
  },
  "cells": [
    {
      "cell_type": "markdown",
      "metadata": {
        "id": "view-in-github",
        "colab_type": "text"
      },
      "source": [
        "<a href=\"https://colab.research.google.com/github/rajdas2001/Text-Generation-with-Gemini-Pro/blob/main/Text_Generation_with_Gemini_Pro.ipynb\" target=\"_parent\"><img src=\"https://colab.research.google.com/assets/colab-badge.svg\" alt=\"Open In Colab\"/></a>"
      ]
    },
    {
      "cell_type": "code",
      "execution_count": 6,
      "metadata": {
        "id": "ygQik_rq1py7"
      },
      "outputs": [],
      "source": [
        "import google.generativeai as genai"
      ]
    },
    {
      "cell_type": "code",
      "source": [
        "genai.configure(api_key=\"YOUR_API_KEY\")\n",
        "model = genai.GenerativeModel('gemini-pro')\n",
        "\n",
        "\n",
        "question = input(\"How can I help you?\\n \")\n",
        "\n",
        "response = model.generate_content(question)\n",
        "print(\"Here is your answer: \\n\")\n",
        "print(response.text)"
      ],
      "metadata": {
        "colab": {
          "base_uri": "https://localhost:8080/",
          "height": 728
        },
        "id": "bbBhdRLA1zWw",
        "outputId": "d229b9ce-e996-4bc5-ce43-d66bf31a5818"
      },
      "execution_count": 9,
      "outputs": [
        {
          "output_type": "stream",
          "name": "stdout",
          "text": [
            "How can I help you?\n",
            " How to make a sandwich?\n",
            "Here is your answer: \n",
            "\n",
            "**Materials:**\n",
            "\n",
            "* Bread\n",
            "* Spread (e.g., butter, mayonnaise)\n",
            "* Fillings (e.g., meat, cheese, vegetables)\n",
            "\n",
            "**Instructions:**\n",
            "\n",
            "1. **Prepare the bread:**\n",
            "   - Toast the bread if desired.\n",
            "   - Cut the bread into slices or rolls.\n",
            "\n",
            "2. **Add spread:**\n",
            "   - Spread a thin layer of spread evenly on one side of each slice of bread.\n",
            "\n",
            "3. **Layer fillings:**\n",
            "   - Place the desired fillings on one of the slices of bread, layering them in the following order:\n",
            "     - Base filling (e.g., lettuce, tomato)\n",
            "     - Main filling (e.g., meat, cheese)\n",
            "     - Top filling (e.g., pickles, onions)\n",
            "\n",
            "4. **Top with the other slice of bread:**\n",
            "   - Place the other slice of bread on top of the fillings, spread-side down.\n",
            "\n",
            "5. **Cut or serve:**\n",
            "   - If desired, cut the sandwich into halves or quarters.\n",
            "   - Alternatively, serve the sandwich whole.\n",
            "\n",
            "**Tips:**\n",
            "\n",
            "* Use high-quality bread for a better taste and texture.\n",
            "* Experiment with different spreads and fillings to create unique flavor combinations.\n",
            "* Layer the fillings evenly for a balanced taste in every bite.\n",
            "* Serve the sandwich immediately or wrap it in plastic wrap and store in the refrigerator for later.\n",
            "* Toasting the bread before adding spread helps to create a more crispy sandwich.\n",
            "* If you're using wet or moist fillings, such as tomatoes or cucumbers, blot them dry before adding them to the sandwich to prevent sogginess.\n",
            "* Grilling or pressing the sandwich can enhance its flavor and texture.\n"
          ]
        }
      ]
    },
    {
      "cell_type": "code",
      "source": [],
      "metadata": {
        "id": "y-AZwMb12SXS"
      },
      "execution_count": null,
      "outputs": []
    }
  ]
}